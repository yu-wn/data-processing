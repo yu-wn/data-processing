{
 "cells": [
  {
   "cell_type": "code",
   "execution_count": 7,
   "id": "f9962e37-0088-4087-9b9a-0078518e1046",
   "metadata": {},
   "outputs": [
    {
     "name": "stdout",
     "output_type": "stream",
     "text": [
      "data_num = 1\n",
      "最大の絶対値のインデックス: 86、最大の絶対値: 1.6258751701222809\n"
     ]
    }
   ],
   "source": [
    "import pandas as pd\n",
    "import glob\n",
    "import os\n",
    "\n",
    "\n",
    "#ⅹ軸の絶対値が最大となるときから前後20フレームを抽出する（計41フレーム）\n",
    "\n",
    "# CSVファイルが格納されているディレクトリを指定\n",
    "dataList = glob.glob(r\"C:\\Users\\miyazakipc\\Desktop\\ゼミ資料用データ\\3回目\\正規化\\*force3_s1_normed.csv\")\n",
    "\n",
    "# 保存先ディレクトリの指定\n",
    "save_path = r\"C:\\Users\\miyazakipc\\Desktop\\ゼミ資料用データ\\3回目\\正規化\"\n",
    "\n",
    "# 前後に取り出すデータの範囲（20フレーム）\n",
    "window_size = 20\n",
    "\n",
    "# ファイル数取得\n",
    "data_num = len(dataList)\n",
    "print(f\"data_num = {data_num}\")\n",
    "\n",
    "# 各ファイルに対して処理を実行\n",
    "for data_file in dataList:\n",
    "    # CSVデータを読み込む\n",
    "    data = pd.read_csv(data_file, header=0)  # ヘッダー行あり\n",
    "    \n",
    "    # C列（「2」ヘッダー）のデータを取得\n",
    "    c_column = data[\"2\"].tolist()  # C列のデータをリストとして取得\n",
    "    \n",
    "    # C列の絶対値の最大値のインデックスを取得\n",
    "    abs_c_column = [abs(value) for value in c_column]  # 絶対値を取得\n",
    "    max_index = abs_c_column.index(max(abs_c_column))  # 最大の絶対値のインデックスを取得\n",
    "    \n",
    "    # 前後20フレームのインデックス範囲を設定\n",
    "    start_index = max(0, max_index - window_size)  # 0は下限として設定\n",
    "    end_index = min(len(data), max_index + window_size + 1)  # 含まないので+1\n",
    "    \n",
    "    # A列からE列までのデータを抽出\n",
    "    extracted_data = data.iloc[start_index:end_index, :5]  # A列からE列を抽出\n",
    "    \n",
    "    # 元のファイル名に \"_extracted\" を付けて保存ファイル名を作成\n",
    "    outputFileName_x = os.path.join(save_path, os.path.basename(data_file).replace(\".csv\", \"_extracted.csv\"))\n",
    "    \n",
    "    # 抽出したデータをCSVファイルに保存\n",
    "    extracted_data.to_csv(outputFileName_x, index=False)\n",
    "\n",
    "    # 最大の絶対値とそのインデックスを表示\n",
    "    print(f\"最大の絶対値のインデックス: {max_index}、最大の絶対値: {max(abs_c_column)}\")\n"
   ]
  },
  {
   "cell_type": "code",
   "execution_count": null,
   "id": "b997a854-11d7-453c-8f68-dd0cbe8020cb",
   "metadata": {},
   "outputs": [],
   "source": []
  },
  {
   "cell_type": "code",
   "execution_count": 31,
   "id": "593440f9-1cf3-4ded-9a60-08b2e691c502",
   "metadata": {},
   "outputs": [
    {
     "name": "stdout",
     "output_type": "stream",
     "text": [
      "data_num = 10\n"
     ]
    },
    {
     "name": "stderr",
     "output_type": "stream",
     "text": [
      " 50%|█████████████████████████████████████████▌                                         | 5/10 [00:00<00:00, 17.82it/s]"
     ]
    },
    {
     "name": "stdout",
     "output_type": "stream",
     "text": [
      "最大値のインデックス: 113、最大値: -1.0636622966507177\n",
      "最大値のインデックス: 54、最大値: -1.0996004864433813\n",
      "最大値のインデックス: 79、最大値: -1.1063074561403508\n",
      "最大値のインデックス: 123、最大値: -1.1299509210526315\n",
      "最大値のインデックス: 62、最大値: -1.1618803444976078\n",
      "最大値のインデックス: 17、最大値: -1.143147799043062\n"
     ]
    },
    {
     "name": "stderr",
     "output_type": "stream",
     "text": [
      "100%|██████████████████████████████████████████████████████████████████████████████████| 10/10 [00:00<00:00, 19.49it/s]\n"
     ]
    },
    {
     "name": "stdout",
     "output_type": "stream",
     "text": [
      "最大値のインデックス: 29、最大値: -1.1227298484848485\n",
      "最大値のインデックス: 26、最大値: -1.1615314593301436\n",
      "最大値のインデックス: 34、最大値: -1.1151456220095692\n",
      "最大値のインデックス: 54、最大値: -1.1570155534290272\n"
     ]
    }
   ],
   "source": [
    "import pandas as pd\n",
    "import glob\n",
    "import os\n",
    "from tqdm import tqdm\n",
    "\n",
    "# CSVファイルが格納されているディレクトリを指定\n",
    "dataList = glob.glob(r\"E:\\てすりとキネクト（てすり）\\3回目変換後\\平滑、正規化後3回目データ\\*force3_s1_normed.csv\")\n",
    "\n",
    "# 保存先ディレクトリの指定\n",
    "save_path = r\"E:\\てすりとキネクト（てすり）\\3回目変換後\\平滑、正規化後3回目データ\\抽出後データ\"\n",
    "\n",
    "# 前後に取り出すデータの範囲（20フレーム）\n",
    "window_size = 20\n",
    "\n",
    "# ファイル数取得\n",
    "data_num = len(dataList)\n",
    "print(f\"data_num = {data_num}\")\n",
    "\n",
    "# 各ファイルに対して処理を実行\n",
    "for data_file in tqdm(dataList):\n",
    "    # CSVデータを読み込む\n",
    "    data = pd.read_csv(data_file, header=0)  # ヘッダー行あり\n",
    "    \n",
    "    # C列（「2」ヘッダー）のデータを取得\n",
    "    c_column = data[\"2\"].tolist()  # C列のデータをリストとして取得\n",
    "    \n",
    "    # 最大値のインデックスを取得\n",
    "    max_index = c_column.index(max(c_column))\n",
    "    \n",
    "    # 前後20フレームのインデックス範囲を設定\n",
    "    start_index = max(0, max_index - window_size) #0は下限として設定\n",
    "    end_index = min(len(data), max_index + window_size + 1) #含まないので+1\n",
    "    \n",
    "    # A列からE列までのデータを抽出\n",
    "    extracted_data = data.iloc[start_index:end_index, :5]  # A列からE列を抽出\n",
    "    \n",
    "    # 元のファイル名に \"_extracted\" を付けて保存ファイル名を作成\n",
    "    outputFileName_x = os.path.join(save_path, os.path.basename(data_file).replace(\".csv\", \"_extracted.csv\"))\n",
    "    \n",
    "    # 抽出したデータをExcelファイルに保存\n",
    "    extracted_data.to_csv(outputFileName_x, index=False)\n",
    "\n",
    "    print(f\"最大値のインデックス: {max_index}、最大値: {max(c_column)}\")\n"
   ]
  },
  {
   "cell_type": "code",
   "execution_count": null,
   "id": "3ea57d5d-9ab2-4c6a-8483-df5658c73b6a",
   "metadata": {},
   "outputs": [],
   "source": []
  }
 ],
 "metadata": {
  "kernelspec": {
   "display_name": "Python (test)",
   "language": "python",
   "name": "test"
  },
  "language_info": {
   "codemirror_mode": {
    "name": "ipython",
    "version": 3
   },
   "file_extension": ".py",
   "mimetype": "text/x-python",
   "name": "python",
   "nbconvert_exporter": "python",
   "pygments_lexer": "ipython3",
   "version": "3.11.9"
  }
 },
 "nbformat": 4,
 "nbformat_minor": 5
}
